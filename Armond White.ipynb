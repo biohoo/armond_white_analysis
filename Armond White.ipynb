{
 "cells": [
  {
   "cell_type": "code",
   "execution_count": 361,
   "id": "a5a35bb1",
   "metadata": {},
   "outputs": [],
   "source": [
    "import pandas as pd\n",
    "import matplotlib.pyplot as plt\n",
    "import matplotlib.colors as mcolors\n",
    "import ast"
   ]
  },
  {
   "cell_type": "code",
   "execution_count": 362,
   "id": "ef7d419c",
   "metadata": {},
   "outputs": [
    {
     "data": {
      "text/markdown": [
       "# Reading in the scraped Armond White reviews\n",
       "Source: https://www.rottentomatoes.com/critics/armond-white/movies\n",
       "        \n",
       "Scraped on 30 JUL 2023\n"
      ],
      "text/plain": [
       "<IPython.core.display.Markdown object>"
      ]
     },
     "metadata": {},
     "output_type": "display_data"
    }
   ],
   "source": [
    "%%markdown\n",
    "# Reading in the scraped Armond White reviews\n",
    "Source: https://www.rottentomatoes.com/critics/armond-white/movies\n",
    "        \n",
    "Scraped on 30 JUL 2023"
   ]
  },
  {
   "cell_type": "code",
   "execution_count": 363,
   "id": "43693421",
   "metadata": {},
   "outputs": [
    {
     "data": {
      "text/html": [
       "<div>\n",
       "<style scoped>\n",
       "    .dataframe tbody tr th:only-of-type {\n",
       "        vertical-align: middle;\n",
       "    }\n",
       "\n",
       "    .dataframe tbody tr th {\n",
       "        vertical-align: top;\n",
       "    }\n",
       "\n",
       "    .dataframe thead th {\n",
       "        text-align: right;\n",
       "    }\n",
       "</style>\n",
       "<table border=\"1\" class=\"dataframe\">\n",
       "  <thead>\n",
       "    <tr style=\"text-align: right;\">\n",
       "      <th></th>\n",
       "      <th>Unnamed: 0</th>\n",
       "      <th>Armond Review</th>\n",
       "      <th>Tomatometer Review</th>\n",
       "      <th>Tomatometer Score</th>\n",
       "      <th>Quote</th>\n",
       "      <th>Publication Name</th>\n",
       "      <th>Movie</th>\n",
       "      <th>Date</th>\n",
       "    </tr>\n",
       "  </thead>\n",
       "  <tbody>\n",
       "    <tr>\n",
       "      <th>0</th>\n",
       "      <td>0</td>\n",
       "      <td>rotten</td>\n",
       "      <td>certified-fresh</td>\n",
       "      <td>94.0</td>\n",
       "      <td>Because Nolan’s politics are always obscure, i...</td>\n",
       "      <td>National Review</td>\n",
       "      <td>Oppenheimer</td>\n",
       "      <td>2023-07-21</td>\n",
       "    </tr>\n",
       "    <tr>\n",
       "      <th>1</th>\n",
       "      <td>1</td>\n",
       "      <td>rotten</td>\n",
       "      <td>certified-fresh</td>\n",
       "      <td>88.0</td>\n",
       "      <td>Frantic, uncheerful, and graceless, Barbie sym...</td>\n",
       "      <td>National Review</td>\n",
       "      <td>Barbie</td>\n",
       "      <td>2023-07-20</td>\n",
       "    </tr>\n",
       "    <tr>\n",
       "      <th>2</th>\n",
       "      <td>2</td>\n",
       "      <td>rotten</td>\n",
       "      <td>certified-fresh</td>\n",
       "      <td>96.0</td>\n",
       "      <td>Reducing cinema to gimmicky sensationalism is ...</td>\n",
       "      <td>National Review</td>\n",
       "      <td>Mission: Impossible - Dead Reckoning, Part One</td>\n",
       "      <td>2023-07-14</td>\n",
       "    </tr>\n",
       "    <tr>\n",
       "      <th>3</th>\n",
       "      <td>3</td>\n",
       "      <td>rotten</td>\n",
       "      <td>certified-fresh</td>\n",
       "      <td>78.0</td>\n",
       "      <td>The Lesson is an appalling example of our mora...</td>\n",
       "      <td>National Review</td>\n",
       "      <td>The Lesson</td>\n",
       "      <td>2023-07-14</td>\n",
       "    </tr>\n",
       "    <tr>\n",
       "      <th>4</th>\n",
       "      <td>4</td>\n",
       "      <td>rotten</td>\n",
       "      <td>fresh</td>\n",
       "      <td>69.0</td>\n",
       "      <td>The thrill is gone. Not that Raiders absolutis...</td>\n",
       "      <td>National Review</td>\n",
       "      <td>Indiana Jones and the Dial of Destiny</td>\n",
       "      <td>2023-07-01</td>\n",
       "    </tr>\n",
       "  </tbody>\n",
       "</table>\n",
       "</div>"
      ],
      "text/plain": [
       "   Unnamed: 0 Armond Review Tomatometer Review  Tomatometer Score  \\\n",
       "0           0        rotten    certified-fresh               94.0   \n",
       "1           1        rotten    certified-fresh               88.0   \n",
       "2           2        rotten    certified-fresh               96.0   \n",
       "3           3        rotten    certified-fresh               78.0   \n",
       "4           4        rotten              fresh               69.0   \n",
       "\n",
       "                                               Quote Publication Name  \\\n",
       "0  Because Nolan’s politics are always obscure, i...  National Review   \n",
       "1  Frantic, uncheerful, and graceless, Barbie sym...  National Review   \n",
       "2  Reducing cinema to gimmicky sensationalism is ...  National Review   \n",
       "3  The Lesson is an appalling example of our mora...  National Review   \n",
       "4  The thrill is gone. Not that Raiders absolutis...  National Review   \n",
       "\n",
       "                                            Movie       Date  \n",
       "0                                     Oppenheimer 2023-07-21  \n",
       "1                                          Barbie 2023-07-20  \n",
       "2  Mission: Impossible - Dead Reckoning, Part One 2023-07-14  \n",
       "3                                      The Lesson 2023-07-14  \n",
       "4           Indiana Jones and the Dial of Destiny 2023-07-01  "
      ]
     },
     "execution_count": 363,
     "metadata": {},
     "output_type": "execute_result"
    }
   ],
   "source": [
    "df = pd.read_csv('armond_white.csv')\n",
    "df[\"Date\"] = pd.to_datetime(df[\"Date\"])\n",
    "df.head()"
   ]
  },
  {
   "cell_type": "code",
   "execution_count": 364,
   "id": "58c49105",
   "metadata": {},
   "outputs": [
    {
     "data": {
      "text/plain": [
       "Index(['Unnamed: 0', 'Armond Review', 'Tomatometer Review',\n",
       "       'Tomatometer Score', 'Quote', 'Publication Name', 'Movie', 'Date'],\n",
       "      dtype='object')"
      ]
     },
     "execution_count": 364,
     "metadata": {},
     "output_type": "execute_result"
    }
   ],
   "source": [
    "df.columns"
   ]
  },
  {
   "cell_type": "code",
   "execution_count": 365,
   "id": "d0fc1c5a",
   "metadata": {},
   "outputs": [
    {
     "name": "stdout",
     "output_type": "stream",
     "text": [
      "There are 1213 reviews\n"
     ]
    }
   ],
   "source": [
    "print(f'There are {len(df)} reviews')"
   ]
  },
  {
   "cell_type": "code",
   "execution_count": 366,
   "id": "f64f1782",
   "metadata": {},
   "outputs": [
    {
     "name": "stdout",
     "output_type": "stream",
     "text": [
      "<class 'pandas.core.frame.DataFrame'>\n",
      "RangeIndex: 1213 entries, 0 to 1212\n",
      "Data columns (total 8 columns):\n",
      " #   Column              Non-Null Count  Dtype         \n",
      "---  ------              --------------  -----         \n",
      " 0   Unnamed: 0          1213 non-null   int64         \n",
      " 1   Armond Review       1213 non-null   object        \n",
      " 2   Tomatometer Review  1196 non-null   object        \n",
      " 3   Tomatometer Score   1196 non-null   float64       \n",
      " 4   Quote               1213 non-null   object        \n",
      " 5   Publication Name    1213 non-null   object        \n",
      " 6   Movie               1213 non-null   object        \n",
      " 7   Date                1213 non-null   datetime64[ns]\n",
      "dtypes: datetime64[ns](1), float64(1), int64(1), object(5)\n",
      "memory usage: 75.9+ KB\n"
     ]
    }
   ],
   "source": [
    "df.info()"
   ]
  },
  {
   "cell_type": "code",
   "execution_count": 367,
   "id": "55062d3c",
   "metadata": {},
   "outputs": [
    {
     "data": {
      "text/markdown": [
       "# Normalizing Tomatometer Ratings\n",
       "For the next few cells, we'll call \"Certified Fresh\" just \"fresh\" so that they can be compared side by side with Armond's reviews\n"
      ],
      "text/plain": [
       "<IPython.core.display.Markdown object>"
      ]
     },
     "metadata": {},
     "output_type": "display_data"
    }
   ],
   "source": [
    "%%markdown\n",
    "# Normalizing Tomatometer Ratings\n",
    "For the next few cells, we'll call \"Certified Fresh\" just \"fresh\" so that they can be compared side by side with Armond's reviews"
   ]
  },
  {
   "cell_type": "code",
   "execution_count": 368,
   "id": "cd0a8076",
   "metadata": {},
   "outputs": [
    {
     "data": {
      "text/html": [
       "<div>\n",
       "<style scoped>\n",
       "    .dataframe tbody tr th:only-of-type {\n",
       "        vertical-align: middle;\n",
       "    }\n",
       "\n",
       "    .dataframe tbody tr th {\n",
       "        vertical-align: top;\n",
       "    }\n",
       "\n",
       "    .dataframe thead th {\n",
       "        text-align: right;\n",
       "    }\n",
       "</style>\n",
       "<table border=\"1\" class=\"dataframe\">\n",
       "  <thead>\n",
       "    <tr style=\"text-align: right;\">\n",
       "      <th></th>\n",
       "      <th>Unnamed: 0</th>\n",
       "      <th>Armond Review</th>\n",
       "      <th>Tomatometer Review</th>\n",
       "      <th>Tomatometer Score</th>\n",
       "      <th>Quote</th>\n",
       "      <th>Publication Name</th>\n",
       "      <th>Movie</th>\n",
       "      <th>Date</th>\n",
       "      <th>Normalized Tomatometer Review</th>\n",
       "    </tr>\n",
       "  </thead>\n",
       "  <tbody>\n",
       "    <tr>\n",
       "      <th>0</th>\n",
       "      <td>0</td>\n",
       "      <td>rotten</td>\n",
       "      <td>certified-fresh</td>\n",
       "      <td>94.0</td>\n",
       "      <td>Because Nolan’s politics are always obscure, i...</td>\n",
       "      <td>National Review</td>\n",
       "      <td>Oppenheimer</td>\n",
       "      <td>2023-07-21</td>\n",
       "      <td>fresh</td>\n",
       "    </tr>\n",
       "    <tr>\n",
       "      <th>1</th>\n",
       "      <td>1</td>\n",
       "      <td>rotten</td>\n",
       "      <td>certified-fresh</td>\n",
       "      <td>88.0</td>\n",
       "      <td>Frantic, uncheerful, and graceless, Barbie sym...</td>\n",
       "      <td>National Review</td>\n",
       "      <td>Barbie</td>\n",
       "      <td>2023-07-20</td>\n",
       "      <td>fresh</td>\n",
       "    </tr>\n",
       "    <tr>\n",
       "      <th>2</th>\n",
       "      <td>2</td>\n",
       "      <td>rotten</td>\n",
       "      <td>certified-fresh</td>\n",
       "      <td>96.0</td>\n",
       "      <td>Reducing cinema to gimmicky sensationalism is ...</td>\n",
       "      <td>National Review</td>\n",
       "      <td>Mission: Impossible - Dead Reckoning, Part One</td>\n",
       "      <td>2023-07-14</td>\n",
       "      <td>fresh</td>\n",
       "    </tr>\n",
       "    <tr>\n",
       "      <th>3</th>\n",
       "      <td>3</td>\n",
       "      <td>rotten</td>\n",
       "      <td>certified-fresh</td>\n",
       "      <td>78.0</td>\n",
       "      <td>The Lesson is an appalling example of our mora...</td>\n",
       "      <td>National Review</td>\n",
       "      <td>The Lesson</td>\n",
       "      <td>2023-07-14</td>\n",
       "      <td>fresh</td>\n",
       "    </tr>\n",
       "    <tr>\n",
       "      <th>4</th>\n",
       "      <td>4</td>\n",
       "      <td>rotten</td>\n",
       "      <td>fresh</td>\n",
       "      <td>69.0</td>\n",
       "      <td>The thrill is gone. Not that Raiders absolutis...</td>\n",
       "      <td>National Review</td>\n",
       "      <td>Indiana Jones and the Dial of Destiny</td>\n",
       "      <td>2023-07-01</td>\n",
       "      <td>fresh</td>\n",
       "    </tr>\n",
       "  </tbody>\n",
       "</table>\n",
       "</div>"
      ],
      "text/plain": [
       "   Unnamed: 0 Armond Review Tomatometer Review  Tomatometer Score  \\\n",
       "0           0        rotten    certified-fresh               94.0   \n",
       "1           1        rotten    certified-fresh               88.0   \n",
       "2           2        rotten    certified-fresh               96.0   \n",
       "3           3        rotten    certified-fresh               78.0   \n",
       "4           4        rotten              fresh               69.0   \n",
       "\n",
       "                                               Quote Publication Name  \\\n",
       "0  Because Nolan’s politics are always obscure, i...  National Review   \n",
       "1  Frantic, uncheerful, and graceless, Barbie sym...  National Review   \n",
       "2  Reducing cinema to gimmicky sensationalism is ...  National Review   \n",
       "3  The Lesson is an appalling example of our mora...  National Review   \n",
       "4  The thrill is gone. Not that Raiders absolutis...  National Review   \n",
       "\n",
       "                                            Movie       Date  \\\n",
       "0                                     Oppenheimer 2023-07-21   \n",
       "1                                          Barbie 2023-07-20   \n",
       "2  Mission: Impossible - Dead Reckoning, Part One 2023-07-14   \n",
       "3                                      The Lesson 2023-07-14   \n",
       "4           Indiana Jones and the Dial of Destiny 2023-07-01   \n",
       "\n",
       "  Normalized Tomatometer Review  \n",
       "0                         fresh  \n",
       "1                         fresh  \n",
       "2                         fresh  \n",
       "3                         fresh  \n",
       "4                         fresh  "
      ]
     },
     "execution_count": 368,
     "metadata": {},
     "output_type": "execute_result"
    }
   ],
   "source": [
    "normalization_mapping = {\n",
    "    \"rotten\": \"rotten\",\n",
    "    \"fresh\": \"fresh\",\n",
    "    \"certified-fresh\": \"fresh\"  # Map \"certified-fresh\" to \"fresh\"\n",
    "}\n",
    "\n",
    "# Normalize the ratings in the DataFrame using the mapping\n",
    "df[\"Normalized Tomatometer Review\"] = df[\"Tomatometer Review\"].map(normalization_mapping)\n",
    "df.head()"
   ]
  },
  {
   "cell_type": "code",
   "execution_count": 369,
   "id": "c3eaca57",
   "metadata": {},
   "outputs": [
    {
     "data": {
      "text/html": [
       "<div>\n",
       "<style scoped>\n",
       "    .dataframe tbody tr th:only-of-type {\n",
       "        vertical-align: middle;\n",
       "    }\n",
       "\n",
       "    .dataframe tbody tr th {\n",
       "        vertical-align: top;\n",
       "    }\n",
       "\n",
       "    .dataframe thead th {\n",
       "        text-align: right;\n",
       "    }\n",
       "</style>\n",
       "<table border=\"1\" class=\"dataframe\">\n",
       "  <thead>\n",
       "    <tr style=\"text-align: right;\">\n",
       "      <th>Normalized Tomatometer Review</th>\n",
       "      <th>fresh</th>\n",
       "      <th>rotten</th>\n",
       "    </tr>\n",
       "    <tr>\n",
       "      <th>Armond Review</th>\n",
       "      <th></th>\n",
       "      <th></th>\n",
       "    </tr>\n",
       "  </thead>\n",
       "  <tbody>\n",
       "    <tr>\n",
       "      <th>fresh</th>\n",
       "      <td>74.7</td>\n",
       "      <td>25.3</td>\n",
       "    </tr>\n",
       "    <tr>\n",
       "      <th>rotten</th>\n",
       "      <td>68.5</td>\n",
       "      <td>31.5</td>\n",
       "    </tr>\n",
       "  </tbody>\n",
       "</table>\n",
       "</div>"
      ],
      "text/plain": [
       "Normalized Tomatometer Review  fresh  rotten\n",
       "Armond Review                               \n",
       "fresh                           74.7    25.3\n",
       "rotten                          68.5    31.5"
      ]
     },
     "execution_count": 369,
     "metadata": {},
     "output_type": "execute_result"
    }
   ],
   "source": [
    "# Calculate percent agreement matrix\n",
    "percent_agreement_matrix = (pd.crosstab(df[\"Armond Review\"], \n",
    "                                       df[\"Normalized Tomatometer Review\"], \n",
    "                                       normalize='index') * 100).round(1)\n",
    "percent_agreement_matrix"
   ]
  },
  {
   "cell_type": "code",
   "execution_count": 370,
   "id": "2eac0e0c",
   "metadata": {},
   "outputs": [
    {
     "data": {
      "text/markdown": [
       "# Armond's Percent Agreement\n",
       "Armond has a decent agreement with RT for Fresh ratings.\n",
       "\n",
       "Armond's rotten ratings are often contrarian, disagreeing a good 68.5 percent from RT.\n"
      ],
      "text/plain": [
       "<IPython.core.display.Markdown object>"
      ]
     },
     "metadata": {},
     "output_type": "display_data"
    }
   ],
   "source": [
    "%%markdown\n",
    "# Armond's Percent Agreement\n",
    "Armond has a decent agreement with RT for Fresh ratings.\n",
    "\n",
    "Armond's rotten ratings are often contrarian, disagreeing a good 68.5 percent from RT."
   ]
  },
  {
   "cell_type": "code",
   "execution_count": 371,
   "id": "2072edfb",
   "metadata": {},
   "outputs": [
    {
     "data": {
      "text/plain": [
       "53.1"
      ]
     },
     "execution_count": 371,
     "metadata": {},
     "output_type": "execute_result"
    }
   ],
   "source": [
    "percent_agreement = (percent_agreement_matrix['fresh'][0] + percent_agreement_matrix['rotten'][1]) / 2\n",
    "percent_agreement"
   ]
  },
  {
   "cell_type": "code",
   "execution_count": 372,
   "id": "2f9a8e44",
   "metadata": {},
   "outputs": [
    {
     "data": {
      "text/markdown": [
       "# Armond's Agreeability with Rotten Tomatoes\n",
       "On Average, Armond **agrees** with Rotten Tomatoes **53.1% of the time**.\n"
      ],
      "text/plain": [
       "<IPython.core.display.Markdown object>"
      ]
     },
     "metadata": {},
     "output_type": "display_data"
    }
   ],
   "source": [
    "%%markdown\n",
    "# Armond's Agreeability with Rotten Tomatoes\n",
    "On Average, Armond **agrees** with Rotten Tomatoes **53.1% of the time**."
   ]
  },
  {
   "cell_type": "code",
   "execution_count": 373,
   "id": "634a00ef",
   "metadata": {},
   "outputs": [],
   "source": [
    "high_tomatometer = df[df['Tomatometer Score'] > 89]\n",
    "low_tomatometer = df[df['Tomatometer Score'] < 21]\n"
   ]
  },
  {
   "cell_type": "code",
   "execution_count": 374,
   "id": "e3f49e16",
   "metadata": {},
   "outputs": [
    {
     "data": {
      "text/html": [
       "<div>\n",
       "<style scoped>\n",
       "    .dataframe tbody tr th:only-of-type {\n",
       "        vertical-align: middle;\n",
       "    }\n",
       "\n",
       "    .dataframe tbody tr th {\n",
       "        vertical-align: top;\n",
       "    }\n",
       "\n",
       "    .dataframe thead th {\n",
       "        text-align: right;\n",
       "    }\n",
       "</style>\n",
       "<table border=\"1\" class=\"dataframe\">\n",
       "  <thead>\n",
       "    <tr style=\"text-align: right;\">\n",
       "      <th>Normalized Tomatometer Review</th>\n",
       "      <th>fresh</th>\n",
       "    </tr>\n",
       "    <tr>\n",
       "      <th>Armond Review</th>\n",
       "      <th></th>\n",
       "    </tr>\n",
       "  </thead>\n",
       "  <tbody>\n",
       "    <tr>\n",
       "      <th>fresh</th>\n",
       "      <td>152</td>\n",
       "    </tr>\n",
       "    <tr>\n",
       "      <th>rotten</th>\n",
       "      <td>172</td>\n",
       "    </tr>\n",
       "  </tbody>\n",
       "</table>\n",
       "</div>"
      ],
      "text/plain": [
       "Normalized Tomatometer Review  fresh\n",
       "Armond Review                       \n",
       "fresh                            152\n",
       "rotten                           172"
      ]
     },
     "execution_count": 374,
     "metadata": {},
     "output_type": "execute_result"
    }
   ],
   "source": [
    "percent_agreement_matrix = pd.crosstab(high_tomatometer[\"Armond Review\"], \n",
    "                                       high_tomatometer[\"Normalized Tomatometer Review\"])\n",
    "percent_agreement_matrix"
   ]
  },
  {
   "cell_type": "code",
   "execution_count": 375,
   "id": "f798cc5f",
   "metadata": {},
   "outputs": [
    {
     "data": {
      "text/plain": [
       "53.09"
      ]
     },
     "execution_count": 375,
     "metadata": {},
     "output_type": "execute_result"
    }
   ],
   "source": [
    "contrarian_percent = (percent_agreement_matrix['fresh']['rotten']/sum(percent_agreement_matrix['fresh']))*100\n",
    "contrarian_percent.round(2)"
   ]
  },
  {
   "cell_type": "code",
   "execution_count": 376,
   "id": "7756d250",
   "metadata": {},
   "outputs": [
    {
     "data": {
      "text/markdown": [
       "# Armond and \"Certified Fresh\" Rotten Tomato Reviews\n",
       "When faced with overwhelming positive, rave reviews, Armond will disagree with contrarianism 53.1% of the time\n"
      ],
      "text/plain": [
       "<IPython.core.display.Markdown object>"
      ]
     },
     "metadata": {},
     "output_type": "display_data"
    }
   ],
   "source": [
    "%%markdown\n",
    "# Armond and \"Certified Fresh\" Rotten Tomato Reviews\n",
    "When faced with overwhelming positive, rave reviews, Armond will disagree with contrarianism 53.1% of the time"
   ]
  },
  {
   "cell_type": "code",
   "execution_count": 377,
   "id": "0348906d",
   "metadata": {},
   "outputs": [
    {
     "data": {
      "text/html": [
       "<div>\n",
       "<style scoped>\n",
       "    .dataframe tbody tr th:only-of-type {\n",
       "        vertical-align: middle;\n",
       "    }\n",
       "\n",
       "    .dataframe tbody tr th {\n",
       "        vertical-align: top;\n",
       "    }\n",
       "\n",
       "    .dataframe thead th {\n",
       "        text-align: right;\n",
       "    }\n",
       "</style>\n",
       "<table border=\"1\" class=\"dataframe\">\n",
       "  <thead>\n",
       "    <tr style=\"text-align: right;\">\n",
       "      <th>Normalized Tomatometer Review</th>\n",
       "      <th>rotten</th>\n",
       "    </tr>\n",
       "    <tr>\n",
       "      <th>Armond Review</th>\n",
       "      <th></th>\n",
       "    </tr>\n",
       "  </thead>\n",
       "  <tbody>\n",
       "    <tr>\n",
       "      <th>fresh</th>\n",
       "      <td>17</td>\n",
       "    </tr>\n",
       "    <tr>\n",
       "      <th>rotten</th>\n",
       "      <td>26</td>\n",
       "    </tr>\n",
       "  </tbody>\n",
       "</table>\n",
       "</div>"
      ],
      "text/plain": [
       "Normalized Tomatometer Review  rotten\n",
       "Armond Review                        \n",
       "fresh                              17\n",
       "rotten                             26"
      ]
     },
     "execution_count": 377,
     "metadata": {},
     "output_type": "execute_result"
    }
   ],
   "source": [
    "percent_agreement_matrix = pd.crosstab(low_tomatometer[\"Armond Review\"], \n",
    "                                       low_tomatometer[\"Normalized Tomatometer Review\"])\n",
    "percent_agreement_matrix"
   ]
  },
  {
   "cell_type": "code",
   "execution_count": 378,
   "id": "c78dc1af",
   "metadata": {},
   "outputs": [
    {
     "data": {
      "text/plain": [
       "39.5"
      ]
     },
     "execution_count": 378,
     "metadata": {},
     "output_type": "execute_result"
    }
   ],
   "source": [
    "optimistic_percent = (percent_agreement_matrix['rotten']['fresh']/sum(percent_agreement_matrix['rotten']))*100\n",
    "optimistic_percent.round(1)"
   ]
  },
  {
   "cell_type": "code",
   "execution_count": 379,
   "id": "fd69296d",
   "metadata": {},
   "outputs": [
    {
     "data": {
      "text/markdown": [
       "# Armond and \"Overwhelmingly Rotten\" Rotten Tomato Reviews\n",
       "\n",
       "When faced with overwhelming negative critics, Armond will disagree with optimism \n",
       "39.5% of the time\n"
      ],
      "text/plain": [
       "<IPython.core.display.Markdown object>"
      ]
     },
     "metadata": {},
     "output_type": "display_data"
    }
   ],
   "source": [
    "%%markdown\n",
    "# Armond and \"Overwhelmingly Rotten\" Rotten Tomato Reviews\n",
    "\n",
    "When faced with overwhelming negative critics, Armond will disagree with optimism \n",
    "39.5% of the time"
   ]
  },
  {
   "cell_type": "code",
   "execution_count": 380,
   "id": "7813596b",
   "metadata": {},
   "outputs": [
    {
     "data": {
      "image/png": "[encoded data removed]",
      "text/plain": [
       "<Figure size 720x432 with 1 Axes>"
      ]
     },
     "metadata": {
      "needs_background": "light"
     },
     "output_type": "display_data"
    }
   ],
   "source": [
    "def agreement_over_time(df, binning='M',color='#6699CC', title=\"Percent Agreement of Reviews over Time\"):\n",
    "    \n",
    "    df = df.copy()\n",
    "    \n",
    "    df.index = df['Date']\n",
    "    df['Agreement'] = df['Armond Review'] == df['Normalized Tomatometer Review']\n",
    "    percent_agreement_by_month = df.resample(binning)['Agreement'].mean() * 100\n",
    "\n",
    "    plt.figure(figsize=(10, 6))\n",
    "    plt.plot(percent_agreement_by_month.index, percent_agreement_by_month.values, marker='o', linestyle='-', color=color)\n",
    "    plt.xlabel('Month')\n",
    "    plt.ylabel('Percent Agreement')\n",
    "    plt.title(title)\n",
    "    plt.grid(True)\n",
    "    plt.xticks(rotation=45)\n",
    "    plt.ylim(0, 100)\n",
    "    plt.show()\n",
    "\n",
    "agreement_over_time(df, binning=\"Y\")"
   ]
  },
  {
   "cell_type": "code",
   "execution_count": null,
   "id": "419d9233",
   "metadata": {},
   "outputs": [],
   "source": []
  },
  {
   "cell_type": "code",
   "execution_count": 381,
   "id": "98107f96",
   "metadata": {},
   "outputs": [
    {
     "data": {
      "image/png": "[encoded data removed]",
      "text/plain": [
       "<Figure size 720x432 with 1 Axes>"
      ]
     },
     "metadata": {
      "needs_background": "light"
     },
     "output_type": "display_data"
    }
   ],
   "source": [
    "agreement_over_time(high_tomatometer, binning=\"Y\",color='#6c9942', title=\"Percent Agreement with High Tomatometer over Time\")"
   ]
  },
  {
   "cell_type": "code",
   "execution_count": 382,
   "id": "8ec71047",
   "metadata": {},
   "outputs": [
    {
     "data": {
      "image/png": "[encoded data removed]",
      "text/plain": [
       "<Figure size 720x432 with 1 Axes>"
      ]
     },
     "metadata": {
      "needs_background": "light"
     },
     "output_type": "display_data"
    }
   ],
   "source": [
    "agreement_over_time(low_tomatometer, binning=\"Y\",color='#f49a98', title=\"Percent Agreement with Low Tomatometer over Time\")"
   ]
  },
  {
   "cell_type": "code",
   "execution_count": 383,
   "id": "5de809fa",
   "metadata": {},
   "outputs": [],
   "source": [
    "import requests\n",
    "import keyring\n",
    "import json\n",
    "\n",
    "key = keyring.get_password(service_name='themoviedb_key',username='themoviedb_key')\n",
    "\n",
    "genre_dict = {28: 'Action', 12: 'Adventure', 16: 'Animation', 35: 'Comedy', 80: 'Crime', 99: 'Documentary', 18: 'Drama', 10751: 'Family', 14: 'Fantasy', 36: 'History', 27: 'Horror', 10402: 'Music', 9648: 'Mystery', 10749: 'Romance', 878: 'Science Fiction', 10770: 'TV Movie', 53: 'Thriller', 10752: 'War', 37: 'Western'}\n",
    "    \n",
    "\n",
    "response = requests.get(url=f'https://api.themoviedb.org/3/search/movie?api_key={key}&query=the+avengers')\n",
    "json.loads(response.text)['results']\n",
    "\n",
    "def get_genre_from_query(movie_name):\n",
    "    response = requests.get(url='https://api.themoviedb.org/3/search/movie',\n",
    "                           params={'api_key':key,\n",
    "                                  'query':movie_name})\n",
    "    if response.status_code != 200:\n",
    "        print(response)\n",
    "        return ['Unable to query']\n",
    "    \n",
    "    genre_set = set()\n",
    "    \n",
    "    # Maybe just get the first result?\n",
    "\n",
    "    \n",
    "    try:\n",
    "        first_genres =  json.loads(response.text)['results'][0]\n",
    "    except:\n",
    "        return [\"No Results\"]\n",
    "    \n",
    "    for g in first_genres['genre_ids']:\n",
    "        genre_set.add(int(g))\n",
    "\n",
    "    return [genre_dict[x] for x in genre_set]\n",
    "    \n",
    "\n",
    "    \n",
    "\n",
    "\n"
   ]
  },
  {
   "cell_type": "code",
   "execution_count": 384,
   "id": "fcc5f8cd",
   "metadata": {},
   "outputs": [
    {
     "data": {
      "text/plain": [
       "['Comedy', 'Adventure', 'Fantasy']"
      ]
     },
     "execution_count": 384,
     "metadata": {},
     "output_type": "execute_result"
    }
   ],
   "source": [
    "get_genre_from_query('Barbie')"
   ]
  },
  {
   "cell_type": "code",
   "execution_count": 385,
   "id": "0e205088",
   "metadata": {},
   "outputs": [],
   "source": [
    "# API Call to get genres from movie database.\n",
    "# I stored these results as armond_with_genres.csv...\n",
    "\n",
    "#df['Genres'] = df['Movie'].apply(get_genre_from_query)"
   ]
  },
  {
   "cell_type": "code",
   "execution_count": 386,
   "id": "cdab687a",
   "metadata": {},
   "outputs": [],
   "source": [
    "df = pd.read_csv('armond_with_genres.csv')\n",
    "\n",
    "# Convert the 'category1' column back to a Series of lists\n",
    "df['Genres'] = df['Genres'].apply(ast.literal_eval)"
   ]
  },
  {
   "cell_type": "code",
   "execution_count": 387,
   "id": "54221d68",
   "metadata": {},
   "outputs": [
    {
     "data": {
      "text/html": [
       "<div>\n",
       "<style scoped>\n",
       "    .dataframe tbody tr th:only-of-type {\n",
       "        vertical-align: middle;\n",
       "    }\n",
       "\n",
       "    .dataframe tbody tr th {\n",
       "        vertical-align: top;\n",
       "    }\n",
       "\n",
       "    .dataframe thead th {\n",
       "        text-align: right;\n",
       "    }\n",
       "</style>\n",
       "<table border=\"1\" class=\"dataframe\">\n",
       "  <thead>\n",
       "    <tr style=\"text-align: right;\">\n",
       "      <th></th>\n",
       "      <th>Unnamed: 0</th>\n",
       "      <th>Unnamed: 0.1</th>\n",
       "      <th>Armond Review</th>\n",
       "      <th>Tomatometer Review</th>\n",
       "      <th>Tomatometer Score</th>\n",
       "      <th>Quote</th>\n",
       "      <th>Publication Name</th>\n",
       "      <th>Movie</th>\n",
       "      <th>Date</th>\n",
       "      <th>Genres</th>\n",
       "    </tr>\n",
       "  </thead>\n",
       "  <tbody>\n",
       "    <tr>\n",
       "      <th>0</th>\n",
       "      <td>0</td>\n",
       "      <td>0</td>\n",
       "      <td>rotten</td>\n",
       "      <td>certified-fresh</td>\n",
       "      <td>94.0</td>\n",
       "      <td>Because Nolan’s politics are always obscure, i...</td>\n",
       "      <td>National Review</td>\n",
       "      <td>Oppenheimer</td>\n",
       "      <td>2023-07-21</td>\n",
       "      <td>[Drama, History]</td>\n",
       "    </tr>\n",
       "    <tr>\n",
       "      <th>1</th>\n",
       "      <td>1</td>\n",
       "      <td>1</td>\n",
       "      <td>rotten</td>\n",
       "      <td>certified-fresh</td>\n",
       "      <td>88.0</td>\n",
       "      <td>Frantic, uncheerful, and graceless, Barbie sym...</td>\n",
       "      <td>National Review</td>\n",
       "      <td>Barbie</td>\n",
       "      <td>2023-07-20</td>\n",
       "      <td>[Comedy, Adventure, Fantasy]</td>\n",
       "    </tr>\n",
       "    <tr>\n",
       "      <th>2</th>\n",
       "      <td>2</td>\n",
       "      <td>2</td>\n",
       "      <td>rotten</td>\n",
       "      <td>certified-fresh</td>\n",
       "      <td>96.0</td>\n",
       "      <td>Reducing cinema to gimmicky sensationalism is ...</td>\n",
       "      <td>National Review</td>\n",
       "      <td>Mission: Impossible - Dead Reckoning, Part One</td>\n",
       "      <td>2023-07-14</td>\n",
       "      <td>[Thriller, Action, Adventure, Science Fiction]</td>\n",
       "    </tr>\n",
       "    <tr>\n",
       "      <th>3</th>\n",
       "      <td>3</td>\n",
       "      <td>3</td>\n",
       "      <td>rotten</td>\n",
       "      <td>certified-fresh</td>\n",
       "      <td>78.0</td>\n",
       "      <td>The Lesson is an appalling example of our mora...</td>\n",
       "      <td>National Review</td>\n",
       "      <td>The Lesson</td>\n",
       "      <td>2023-07-14</td>\n",
       "      <td>[Drama, Thriller]</td>\n",
       "    </tr>\n",
       "    <tr>\n",
       "      <th>4</th>\n",
       "      <td>4</td>\n",
       "      <td>4</td>\n",
       "      <td>rotten</td>\n",
       "      <td>fresh</td>\n",
       "      <td>69.0</td>\n",
       "      <td>The thrill is gone. Not that Raiders absolutis...</td>\n",
       "      <td>National Review</td>\n",
       "      <td>Indiana Jones and the Dial of Destiny</td>\n",
       "      <td>2023-07-01</td>\n",
       "      <td>[Adventure, Action, Fantasy]</td>\n",
       "    </tr>\n",
       "  </tbody>\n",
       "</table>\n",
       "</div>"
      ],
      "text/plain": [
       "   Unnamed: 0  Unnamed: 0.1 Armond Review Tomatometer Review  \\\n",
       "0           0             0        rotten    certified-fresh   \n",
       "1           1             1        rotten    certified-fresh   \n",
       "2           2             2        rotten    certified-fresh   \n",
       "3           3             3        rotten    certified-fresh   \n",
       "4           4             4        rotten              fresh   \n",
       "\n",
       "   Tomatometer Score                                              Quote  \\\n",
       "0               94.0  Because Nolan’s politics are always obscure, i...   \n",
       "1               88.0  Frantic, uncheerful, and graceless, Barbie sym...   \n",
       "2               96.0  Reducing cinema to gimmicky sensationalism is ...   \n",
       "3               78.0  The Lesson is an appalling example of our mora...   \n",
       "4               69.0  The thrill is gone. Not that Raiders absolutis...   \n",
       "\n",
       "  Publication Name                                           Movie  \\\n",
       "0  National Review                                     Oppenheimer   \n",
       "1  National Review                                          Barbie   \n",
       "2  National Review  Mission: Impossible - Dead Reckoning, Part One   \n",
       "3  National Review                                      The Lesson   \n",
       "4  National Review           Indiana Jones and the Dial of Destiny   \n",
       "\n",
       "         Date                                          Genres  \n",
       "0  2023-07-21                                [Drama, History]  \n",
       "1  2023-07-20                    [Comedy, Adventure, Fantasy]  \n",
       "2  2023-07-14  [Thriller, Action, Adventure, Science Fiction]  \n",
       "3  2023-07-14                               [Drama, Thriller]  \n",
       "4  2023-07-01                    [Adventure, Action, Fantasy]  "
      ]
     },
     "execution_count": 387,
     "metadata": {},
     "output_type": "execute_result"
    }
   ],
   "source": [
    "df.head()"
   ]
  },
  {
   "cell_type": "code",
   "execution_count": 388,
   "id": "bbdcf139",
   "metadata": {},
   "outputs": [
    {
     "data": {
      "image/png": "[encoded data removed]",
      "text/plain": [
       "<Figure size 720x432 with 1 Axes>"
      ]
     },
     "metadata": {
      "needs_background": "light"
     },
     "output_type": "display_data"
    }
   ],
   "source": [
    "# Create a new DataFrame with the counts of category2 for each list in category1\n",
    "count_df = df.explode('Genres').groupby(['Genres', 'Armond Review']).size().unstack(fill_value=0)\n",
    "\n",
    "count_df = count_df.sort_values(by='rotten')\n",
    "\n",
    "# Define custom colors for each category\n",
    "colors = ['#a9d06b', '#f49a98']\n",
    "\n",
    "# Create a custom colormap\n",
    "cmap = mcolors.ListedColormap(colors)\n",
    "# Plot the stacked bar chart\n",
    "ax = count_df.plot(kind='bar', stacked=True, figsize=(10, 6), colormap=cmap)\n",
    "\n",
    "# Set labels and title\n",
    "plt.xlabel('Genres')\n",
    "plt.ylabel('Count')\n",
    "plt.title('Stacked Bar Chart of Armond Reviews Count for Each Genre')\n",
    "\n",
    "# Show the legend\n",
    "plt.legend(title='Armond Review', bbox_to_anchor=(1, 1))\n",
    "\n",
    "# Show the plot\n",
    "plt.show()"
   ]
  },
  {
   "cell_type": "code",
   "execution_count": 389,
   "id": "643d13a2",
   "metadata": {},
   "outputs": [
    {
     "data": {
      "image/png": "[encoded data removed]",
      "text/plain": [
       "<Figure size 720x432 with 1 Axes>"
      ]
     },
     "metadata": {
      "needs_background": "light"
     },
     "output_type": "display_data"
    }
   ],
   "source": [
    "# Create a new DataFrame with the counts of category2 for each list in category1\n",
    "count_df = df.explode('Genres').groupby(['Genres', 'Armond Review']).size().unstack(fill_value=0)\n",
    "\n",
    "# Calculate the percentage of the total for each genre\n",
    "count_df_percentage = count_df.div(count_df.sum(axis=1), axis=0) * 100\n",
    "\n",
    "count_df_percentage = count_df_percentage.sort_values(by='rotten')\n",
    "\n",
    "# Define custom colors for each category\n",
    "colors = ['#a9d06b', '#f49a98']\n",
    "\n",
    "# Create a custom colormap\n",
    "cmap = mcolors.ListedColormap(colors)\n",
    "\n",
    "# Plot the stacked bar chart\n",
    "ax = count_df_percentage.plot(kind='bar', stacked=True, figsize=(10, 6), colormap=cmap)\n",
    "\n",
    "# Set labels and title\n",
    "plt.xlabel('Genres')\n",
    "plt.ylabel('Percentage of Total')\n",
    "plt.title('Stacked Bar Chart of Armond Review Percentage for Each Genre')\n",
    "\n",
    "# Show the legend\n",
    "plt.legend(title='Armond Review', bbox_to_anchor=(1, 1))\n",
    "\n",
    "# Show the plot\n",
    "plt.show()"
   ]
  },
  {
   "cell_type": "code",
   "execution_count": 390,
   "id": "b77001b9",
   "metadata": {},
   "outputs": [
    {
     "data": {
      "text/html": [
       "<div>\n",
       "<style scoped>\n",
       "    .dataframe tbody tr th:only-of-type {\n",
       "        vertical-align: middle;\n",
       "    }\n",
       "\n",
       "    .dataframe tbody tr th {\n",
       "        vertical-align: top;\n",
       "    }\n",
       "\n",
       "    .dataframe thead th {\n",
       "        text-align: right;\n",
       "    }\n",
       "</style>\n",
       "<table border=\"1\" class=\"dataframe\">\n",
       "  <thead>\n",
       "    <tr style=\"text-align: right;\">\n",
       "      <th>Armond Review</th>\n",
       "      <th>fresh</th>\n",
       "      <th>rotten</th>\n",
       "    </tr>\n",
       "    <tr>\n",
       "      <th>Genres</th>\n",
       "      <th></th>\n",
       "      <th></th>\n",
       "    </tr>\n",
       "  </thead>\n",
       "  <tbody>\n",
       "    <tr>\n",
       "      <th>No Results</th>\n",
       "      <td>50.000000</td>\n",
       "      <td>50.000000</td>\n",
       "    </tr>\n",
       "    <tr>\n",
       "      <th>Documentary</th>\n",
       "      <td>49.090909</td>\n",
       "      <td>50.909091</td>\n",
       "    </tr>\n",
       "    <tr>\n",
       "      <th>Comedy</th>\n",
       "      <td>47.133758</td>\n",
       "      <td>52.866242</td>\n",
       "    </tr>\n",
       "    <tr>\n",
       "      <th>Family</th>\n",
       "      <td>46.551724</td>\n",
       "      <td>53.448276</td>\n",
       "    </tr>\n",
       "    <tr>\n",
       "      <th>History</th>\n",
       "      <td>43.564356</td>\n",
       "      <td>56.435644</td>\n",
       "    </tr>\n",
       "    <tr>\n",
       "      <th>Animation</th>\n",
       "      <td>42.222222</td>\n",
       "      <td>57.777778</td>\n",
       "    </tr>\n",
       "    <tr>\n",
       "      <th>Drama</th>\n",
       "      <td>42.134063</td>\n",
       "      <td>57.865937</td>\n",
       "    </tr>\n",
       "    <tr>\n",
       "      <th>Action</th>\n",
       "      <td>40.384615</td>\n",
       "      <td>59.615385</td>\n",
       "    </tr>\n",
       "    <tr>\n",
       "      <th>Thriller</th>\n",
       "      <td>40.271493</td>\n",
       "      <td>59.728507</td>\n",
       "    </tr>\n",
       "    <tr>\n",
       "      <th>Romance</th>\n",
       "      <td>39.705882</td>\n",
       "      <td>60.294118</td>\n",
       "    </tr>\n",
       "    <tr>\n",
       "      <th>Music</th>\n",
       "      <td>39.682540</td>\n",
       "      <td>60.317460</td>\n",
       "    </tr>\n",
       "    <tr>\n",
       "      <th>War</th>\n",
       "      <td>39.473684</td>\n",
       "      <td>60.526316</td>\n",
       "    </tr>\n",
       "    <tr>\n",
       "      <th>Crime</th>\n",
       "      <td>39.411765</td>\n",
       "      <td>60.588235</td>\n",
       "    </tr>\n",
       "    <tr>\n",
       "      <th>Western</th>\n",
       "      <td>36.842105</td>\n",
       "      <td>63.157895</td>\n",
       "    </tr>\n",
       "    <tr>\n",
       "      <th>Mystery</th>\n",
       "      <td>36.486486</td>\n",
       "      <td>63.513514</td>\n",
       "    </tr>\n",
       "    <tr>\n",
       "      <th>Adventure</th>\n",
       "      <td>34.042553</td>\n",
       "      <td>65.957447</td>\n",
       "    </tr>\n",
       "    <tr>\n",
       "      <th>TV Movie</th>\n",
       "      <td>33.333333</td>\n",
       "      <td>66.666667</td>\n",
       "    </tr>\n",
       "    <tr>\n",
       "      <th>Fantasy</th>\n",
       "      <td>31.182796</td>\n",
       "      <td>68.817204</td>\n",
       "    </tr>\n",
       "    <tr>\n",
       "      <th>Horror</th>\n",
       "      <td>27.659574</td>\n",
       "      <td>72.340426</td>\n",
       "    </tr>\n",
       "    <tr>\n",
       "      <th>Science Fiction</th>\n",
       "      <td>23.469388</td>\n",
       "      <td>76.530612</td>\n",
       "    </tr>\n",
       "  </tbody>\n",
       "</table>\n",
       "</div>"
      ],
      "text/plain": [
       "Armond Review        fresh     rotten\n",
       "Genres                               \n",
       "No Results       50.000000  50.000000\n",
       "Documentary      49.090909  50.909091\n",
       "Comedy           47.133758  52.866242\n",
       "Family           46.551724  53.448276\n",
       "History          43.564356  56.435644\n",
       "Animation        42.222222  57.777778\n",
       "Drama            42.134063  57.865937\n",
       "Action           40.384615  59.615385\n",
       "Thriller         40.271493  59.728507\n",
       "Romance          39.705882  60.294118\n",
       "Music            39.682540  60.317460\n",
       "War              39.473684  60.526316\n",
       "Crime            39.411765  60.588235\n",
       "Western          36.842105  63.157895\n",
       "Mystery          36.486486  63.513514\n",
       "Adventure        34.042553  65.957447\n",
       "TV Movie         33.333333  66.666667\n",
       "Fantasy          31.182796  68.817204\n",
       "Horror           27.659574  72.340426\n",
       "Science Fiction  23.469388  76.530612"
      ]
     },
     "execution_count": 390,
     "metadata": {},
     "output_type": "execute_result"
    }
   ],
   "source": [
    "count_df_percentage"
   ]
  },
  {
   "cell_type": "code",
   "execution_count": 391,
   "id": "e542af5e",
   "metadata": {},
   "outputs": [
    {
     "data": {
      "text/html": [
       "<div>\n",
       "<style scoped>\n",
       "    .dataframe tbody tr th:only-of-type {\n",
       "        vertical-align: middle;\n",
       "    }\n",
       "\n",
       "    .dataframe tbody tr th {\n",
       "        vertical-align: top;\n",
       "    }\n",
       "\n",
       "    .dataframe thead th {\n",
       "        text-align: right;\n",
       "    }\n",
       "</style>\n",
       "<table border=\"1\" class=\"dataframe\">\n",
       "  <thead>\n",
       "    <tr style=\"text-align: right;\">\n",
       "      <th>Armond Review</th>\n",
       "      <th>fresh</th>\n",
       "      <th>rotten</th>\n",
       "    </tr>\n",
       "    <tr>\n",
       "      <th>Genres</th>\n",
       "      <th></th>\n",
       "      <th></th>\n",
       "    </tr>\n",
       "  </thead>\n",
       "  <tbody>\n",
       "    <tr>\n",
       "      <th>Action</th>\n",
       "      <td>84</td>\n",
       "      <td>124</td>\n",
       "    </tr>\n",
       "    <tr>\n",
       "      <th>Adventure</th>\n",
       "      <td>48</td>\n",
       "      <td>93</td>\n",
       "    </tr>\n",
       "    <tr>\n",
       "      <th>Animation</th>\n",
       "      <td>19</td>\n",
       "      <td>26</td>\n",
       "    </tr>\n",
       "    <tr>\n",
       "      <th>Comedy</th>\n",
       "      <td>148</td>\n",
       "      <td>166</td>\n",
       "    </tr>\n",
       "    <tr>\n",
       "      <th>Crime</th>\n",
       "      <td>67</td>\n",
       "      <td>103</td>\n",
       "    </tr>\n",
       "    <tr>\n",
       "      <th>Documentary</th>\n",
       "      <td>54</td>\n",
       "      <td>56</td>\n",
       "    </tr>\n",
       "    <tr>\n",
       "      <th>Drama</th>\n",
       "      <td>308</td>\n",
       "      <td>423</td>\n",
       "    </tr>\n",
       "    <tr>\n",
       "      <th>Family</th>\n",
       "      <td>27</td>\n",
       "      <td>31</td>\n",
       "    </tr>\n",
       "    <tr>\n",
       "      <th>Fantasy</th>\n",
       "      <td>29</td>\n",
       "      <td>64</td>\n",
       "    </tr>\n",
       "    <tr>\n",
       "      <th>History</th>\n",
       "      <td>44</td>\n",
       "      <td>57</td>\n",
       "    </tr>\n",
       "    <tr>\n",
       "      <th>Horror</th>\n",
       "      <td>13</td>\n",
       "      <td>34</td>\n",
       "    </tr>\n",
       "    <tr>\n",
       "      <th>Music</th>\n",
       "      <td>25</td>\n",
       "      <td>38</td>\n",
       "    </tr>\n",
       "    <tr>\n",
       "      <th>Mystery</th>\n",
       "      <td>27</td>\n",
       "      <td>47</td>\n",
       "    </tr>\n",
       "    <tr>\n",
       "      <th>No Results</th>\n",
       "      <td>2</td>\n",
       "      <td>2</td>\n",
       "    </tr>\n",
       "    <tr>\n",
       "      <th>Romance</th>\n",
       "      <td>81</td>\n",
       "      <td>123</td>\n",
       "    </tr>\n",
       "    <tr>\n",
       "      <th>Science Fiction</th>\n",
       "      <td>23</td>\n",
       "      <td>75</td>\n",
       "    </tr>\n",
       "    <tr>\n",
       "      <th>TV Movie</th>\n",
       "      <td>1</td>\n",
       "      <td>2</td>\n",
       "    </tr>\n",
       "    <tr>\n",
       "      <th>Thriller</th>\n",
       "      <td>89</td>\n",
       "      <td>132</td>\n",
       "    </tr>\n",
       "    <tr>\n",
       "      <th>War</th>\n",
       "      <td>15</td>\n",
       "      <td>23</td>\n",
       "    </tr>\n",
       "    <tr>\n",
       "      <th>Western</th>\n",
       "      <td>7</td>\n",
       "      <td>12</td>\n",
       "    </tr>\n",
       "  </tbody>\n",
       "</table>\n",
       "</div>"
      ],
      "text/plain": [
       "Armond Review    fresh  rotten\n",
       "Genres                        \n",
       "Action              84     124\n",
       "Adventure           48      93\n",
       "Animation           19      26\n",
       "Comedy             148     166\n",
       "Crime               67     103\n",
       "Documentary         54      56\n",
       "Drama              308     423\n",
       "Family              27      31\n",
       "Fantasy             29      64\n",
       "History             44      57\n",
       "Horror              13      34\n",
       "Music               25      38\n",
       "Mystery             27      47\n",
       "No Results           2       2\n",
       "Romance             81     123\n",
       "Science Fiction     23      75\n",
       "TV Movie             1       2\n",
       "Thriller            89     132\n",
       "War                 15      23\n",
       "Western              7      12"
      ]
     },
     "execution_count": 391,
     "metadata": {},
     "output_type": "execute_result"
    }
   ],
   "source": [
    "count_df"
   ]
  },
  {
   "cell_type": "code",
   "execution_count": 392,
   "id": "1f2695f2",
   "metadata": {},
   "outputs": [
    {
     "data": {
      "image/png": "[encoded data removed]",
      "text/plain": [
       "<Figure size 720x432 with 1 Axes>"
      ]
     },
     "metadata": {
      "needs_background": "light"
     },
     "output_type": "display_data"
    }
   ],
   "source": [
    "# Create a new DataFrame with the counts of category2 for each list in category1\n",
    "count_df = df.explode('Genres').groupby(['Genres', 'Tomatometer Review']).size().unstack(fill_value=0)\n",
    "\n",
    "# Calculate the percentage of the total for each genre\n",
    "count_df_percentage = count_df.div(count_df.sum(axis=1), axis=0) * 100\n",
    "\n",
    "count_df_percentage = count_df_percentage.sort_values(by='rotten')\n",
    "\n",
    "# Define custom colors for each category\n",
    "colors = ['#6c9942', '#a9d06b', '#f49a98']\n",
    "\n",
    "# Create a custom colormap\n",
    "cmap = mcolors.ListedColormap(colors)\n",
    "\n",
    "# Plot the stacked bar chart\n",
    "ax = count_df_percentage.plot(kind='bar', stacked=True, figsize=(10, 6), colormap=cmap)\n",
    "\n",
    "# Set labels and title\n",
    "plt.xlabel('Genres')\n",
    "plt.ylabel('Percentage of Total')\n",
    "plt.title('Stacked Bar Chart of Tomatometer Review Percentage for Each Genre')\n",
    "\n",
    "# Show the legend\n",
    "plt.legend(title='Tomatometer Review', bbox_to_anchor=(1, 1))\n",
    "\n",
    "# Show the plot\n",
    "plt.show()"
   ]
  },
  {
   "cell_type": "code",
   "execution_count": null,
   "id": "2b26c2df",
   "metadata": {},
   "outputs": [],
   "source": []
  }
 ],
 "metadata": {
  "kernelspec": {
   "display_name": "exploratory_ml",
   "language": "python",
   "name": "exploratory_ml"
  },
  "language_info": {
   "codemirror_mode": {
    "name": "ipython",
    "version": 3
   },
   "file_extension": ".py",
   "mimetype": "text/x-python",
   "name": "python",
   "nbconvert_exporter": "python",
   "pygments_lexer": "ipython3",
   "version": "3.7.10"
  }
 },
 "nbformat": 4,
 "nbformat_minor": 5
}
